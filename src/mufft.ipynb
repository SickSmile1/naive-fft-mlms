{
 "cells": [
  {
   "cell_type": "code",
   "execution_count": 97,
   "metadata": {},
   "outputs": [],
   "source": [
    "from muFFT import FFT\n",
    "import numpy as np\n",
    "import matplotlib.pyplot as plt\n",
    "\n",
    "def make_sphere(radius, nb_grid_pts, physical_sizes, centre=None,\n",
    "                standoff=\"undefined\",\n",
    "                offset=0, periodic=False, kind=\"sphere\",\n",
    "                nb_subdomain_grid_pts=None, subdomain_locations=None):\n",
    "    r\"\"\"\n",
    "    Simple sphere geometry.\n",
    "\n",
    "    If kind=\"sphere\" (Default)\n",
    "\n",
    "    .. math:: h = \\left\\{ \\begin{array}{ll} \\sqrt{\\text{radius}^2 - r^2} -\n",
    "                  \\text{radius} & \\text{  for  } r < \\text{radius} \\\\ - \\text{standoff}\n",
    "                   & \\text{else} \\end{array} \\right.\n",
    "\n",
    "    If kind=\"paraboloid\" the sphere is approximated by a paraboloid\n",
    "\n",
    "    .. math:: h = \\frac{r^2}{2 \\cdot \\text{radius}}\n",
    "\n",
    "    :math:`r^2 = x^2 + y^2`\n",
    "\n",
    "    Parameters\n",
    "    ----------\n",
    "    radius : float\n",
    "        self-explanatory\n",
    "    nb_grid_pts : float\n",
    "        self-explanatory\n",
    "    physical_sizes : float\n",
    "        self-explanatory\n",
    "    centre : float\n",
    "         specifies the coordinates (in length units, not pixels).\n",
    "         by default, the sphere is centred in the topography\n",
    "    kind: str\n",
    "        Options are \"sphere\" or \"paraboloid\". Default is \"sphere\".\n",
    "    standoff : float or \"undefined\"\n",
    "         when using interaction forces with ranges of the order\n",
    "         the radius, you might want to set the topography outside of\n",
    "         the sphere to far away, maybe even pay the price of inf,\n",
    "         if your interaction has no cutoff\n",
    "\n",
    "         For `standoff=\"undefined\"`, the entries will be masked in the \n",
    "         topography and topography.has_undefined_data will be true\n",
    "\n",
    "         If `kind=\"paraboloid\"` the paraboloid approximation is used\n",
    "            and the standoff is not applied\n",
    "    periodic : bool\n",
    "         whether the sphere can wrap around. tricky for large spheres\n",
    "    \"\"\"  # noqa: E501, W291\n",
    "    if not hasattr(nb_grid_pts, \"__iter__\"):\n",
    "        nb_grid_pts = (nb_grid_pts,)\n",
    "    dim = len(nb_grid_pts)\n",
    "    if not hasattr(physical_sizes, \"__iter__\"):\n",
    "        physical_sizes = (physical_sizes,)\n",
    "    if centre is None:\n",
    "        centre = np.array(physical_sizes) * .5\n",
    "    if not hasattr(centre, \"__iter__\"):\n",
    "        centre = (centre,)\n",
    "\n",
    "    if not periodic:\n",
    "        def get_r(res, size, centre, subd_loc, subd_res):\n",
    "            \" computes the non-periodic radii to evaluate\"\n",
    "            x = (subd_loc + np.arange(subd_res)) * size / res\n",
    "            return x - centre\n",
    "    else:\n",
    "        def get_r(res, size, centre, subd_loc, subd_res):\n",
    "            \" computes the periodic radii to evaluate\"\n",
    "            x = (subd_loc + np.arange(subd_res)) * size / res\n",
    "            return (x - centre + size / 2) % size - size / 2\n",
    "\n",
    "    if dim == 1:\n",
    "        r2 = get_r(nb_grid_pts[0], physical_sizes[0], centre[0],\n",
    "                   subdomain_locations[0], nb_subdomain_grid_pts[0]) ** 2\n",
    "    elif dim == 2:\n",
    "        #print(nb_grid_pts[0], physical_sizes[0], centre[0],\n",
    "        #             subdomain_locations[0],nb_subdomain_grid_pts[0])\n",
    "        rx2 = (get_r(nb_grid_pts[0], physical_sizes[0], centre[0],\n",
    "                     subdomain_locations[0],\n",
    "                     nb_subdomain_grid_pts[0]) ** 2).reshape((-1, 1))\n",
    "        #print(nb_grid_pts[1], physical_sizes[1], centre[1],\n",
    "        #             subdomain_locations[1], nb_subdomain_grid_pts[1])\n",
    "        ry2 = (get_r(nb_grid_pts[1], physical_sizes[1], centre[1],\n",
    "                     subdomain_locations[1], nb_subdomain_grid_pts[1])) ** 2\n",
    "        r2 = rx2 + ry2\n",
    "        print(r2)\n",
    "    else:\n",
    "        raise ValueError(\"Problem has to be 1- or 2-dimensional. \"\n",
    "                         \"Yours is {}-dimensional\".format(dim))\n",
    "\n",
    "    if kind == \"sphere\":\n",
    "        radius2 = radius ** 2  # avoid nans for small radii\n",
    "        outside = r2 > radius2\n",
    "        r2[outside] = radius2\n",
    "        h = np.sqrt(radius2 - r2) - radius\n",
    "        if standoff == \"undefined\":\n",
    "            standoff_val = np.nan\n",
    "        else:\n",
    "            standoff_val = - standoff - radius\n",
    "        h[outside] = standoff_val\n",
    "    elif kind == \"paraboloid\":\n",
    "        h = - r2 / (2 * radius)\n",
    "    else:\n",
    "        raise (ValueError(\"Wrong value given for parameter kind {}. \"\n",
    "                          \"Should be 'sphere' or 'paraboloid'\".format(kind)))\n",
    "    return h\n",
    "    '''if dim == 1:\n",
    "        ret_top = UniformLineScan(h + offset, physical_sizes)\n",
    "    else:\n",
    "        ret_top = Topography(h + offset, physical_sizes,\n",
    "                             decomposition='subdomain',\n",
    "                             nb_grid_pts=nb_grid_pts,\n",
    "                             subdomain_locations=subdomain_locations,\n",
    "                             communicator=communicator)\n",
    "\n",
    "    if standoff == \"undefined\":\n",
    "        return ret_top\n",
    "    else:\n",
    "        return ret_top.fill_undefined_data(standoff_val)'''"
   ]
  },
  {
   "cell_type": "code",
   "execution_count": null,
   "metadata": {},
   "outputs": [],
   "source": []
  },
  {
   "cell_type": "code",
   "execution_count": 104,
   "metadata": {},
   "outputs": [
    {
     "name": "stdout",
     "output_type": "stream",
     "text": [
      "[[9.]\n",
      " [4.]\n",
      " [1.]\n",
      " [0.]\n",
      " [1.]\n",
      " [4.]]\n",
      "[9. 4. 1. 0. 1. 4.]\n",
      "[[18. 13. 10.  9. 10. 13.]\n",
      " [13.  8.  5.  4.  5.  8.]\n",
      " [10.  5.  2.  1.  2.  5.]\n",
      " [ 9.  4.  1.  0.  1.  4.]\n",
      " [10.  5.  2.  1.  2.  5.]\n",
      " [13.  8.  5.  4.  5.  8.]]\n"
     ]
    }
   ],
   "source": [
    "def get_r(res, size, centre, subd_loc, subd_res):\n",
    "            \" computes the non-periodic radii to evaluate\"\n",
    "            x = (subd_loc + np.arange(subd_res)) * size / res\n",
    "            return x- centre\n",
    "\n",
    "s = (get_r( 6, 6., 3.0, 0, 6)**2 ).reshape((-1, 1))\n",
    "s2 = (get_r(6, 6.0, 3.0, 0, 6)**2)\n",
    "print(s)\n",
    "print(s2)\n",
    "print(s+s2)\n",
    "#fig, ax = plt.subplots()\n",
    "#ax.imshow(s+s2)\n",
    "#plt.show()"
   ]
  },
  {
   "cell_type": "code",
   "execution_count": 108,
   "metadata": {},
   "outputs": [
    {
     "name": "stdout",
     "output_type": "stream",
     "text": [
      "[[18.         16.94214876 15.95041322 ... 15.02479339 15.95041322\n",
      "  16.94214876]\n",
      " [16.94214876 15.88429752 14.89256198 ... 13.96694215 14.89256198\n",
      "  15.88429752]\n",
      " [15.95041322 14.89256198 13.90082645 ... 12.97520661 13.90082645\n",
      "  14.89256198]\n",
      " ...\n",
      " [15.02479339 13.96694215 12.97520661 ... 12.04958678 12.97520661\n",
      "  13.96694215]\n",
      " [15.95041322 14.89256198 13.90082645 ... 12.97520661 13.90082645\n",
      "  14.89256198]\n",
      " [16.94214876 15.88429752 14.89256198 ... 13.96694215 14.89256198\n",
      "  15.88429752]]\n"
     ]
    },
    {
     "data": {
      "text/plain": [
       "<matplotlib.colorbar.Colorbar at 0x7f2a173396d0>"
      ]
     },
     "execution_count": 108,
     "metadata": {},
     "output_type": "execute_result"
    },
    {
     "data": {
      "image/png": "[encoded data removed]",
      "text/plain": [
       "<Figure size 640x480 with 2 Axes>"
      ]
     },
     "metadata": {},
     "output_type": "display_data"
    }
   ],
   "source": [
    "\n",
    "nx = 33\n",
    "ny = 33\n",
    "sx = 6.\n",
    "sy = 6.\n",
    "R = 3.2\n",
    "center = (3., 3.)\n",
    "fftengine = FFT((nx, ny))\n",
    "#print(fftengine.nb_subdomain_grid_pts)\n",
    "#print(fftengine.subdomain_locations)\n",
    "\n",
    "extended_topography = make_sphere(\n",
    "    R, (nx, ny), (sx, sy),\n",
    "    centre=center,\n",
    "    nb_subdomain_grid_pts=fftengine.nb_subdomain_grid_pts,\n",
    "    subdomain_locations=fftengine.subdomain_locations,kind=\"paraboloid\",\n",
    "    periodic=True)\n",
    "fig,ax = plt.subplots()\n",
    "surf = ax.imshow(extended_topography)\n",
    "plt.colorbar(surf, shrink=0.6, aspect=6)\n",
    "#print(extended_topography)"
   ]
  },
  {
   "cell_type": "code",
   "execution_count": null,
   "metadata": {},
   "outputs": [],
   "source": [
    "extended_topography2 = make_sphere(\n",
    "    R, (nx, ny), (sx, sy),\n",
    "    centre=center,\n",
    "    nb_subdomain_grid_pts=fftengine.nb_subdomain_grid_pts,\n",
    "    subdomain_locations=fftengine.subdomain_locations,\n",
    "    periodic=True, kind='paraboloid')\n",
    "#fig,ax = plt.subplots()\n",
    "#ax.imshow(extended_topography2)\n"
   ]
  },
  {
   "cell_type": "code",
   "execution_count": null,
   "metadata": {},
   "outputs": [],
   "source": [
    "'''\n",
    "extended_topography = make_sphere(\n",
    "    R, (nx, ny), (sx, sy),\n",
    "    centre=center,\n",
    "    nb_subdomain_grid_pts=fftengine.nb_subdomain_grid_pts,\n",
    "    subdomain_locations=fftengine.subdomain_locations,\n",
    "    periodic=True)\n",
    "\n",
    "X, Y, Z = extended_topography.positions_and_heights()\n",
    "\n",
    "np.testing.assert_allclose(\n",
    "    (X - np.where(X < center[0] + sx / 2, center[0], center[0] + sx)) ** 2\n",
    "    + (Y - np.where(Y < center[1] + sy / 2, center[1],\n",
    "                    center[1] + sy)) ** 2\n",
    "    + (R + Z) ** 2, R ** 2)'''"
   ]
  },
  {
   "cell_type": "code",
   "execution_count": 87,
   "metadata": {},
   "outputs": [
    {
     "name": "stdout",
     "output_type": "stream",
     "text": [
      "[[3 4 5 6 7]\n",
      " [4 5 6 7 8]\n",
      " [5 6 7 8 9]]\n"
     ]
    }
   ],
   "source": [
    "one = np.array((1,2,3)).reshape(-1,1)\n",
    "two = np.array((2,3,4,5,6))\n",
    "print(one+two)"
   ]
  },
  {
   "cell_type": "code",
   "execution_count": null,
   "metadata": {},
   "outputs": [],
   "source": []
  }
 ],
 "metadata": {
  "kernelspec": {
   "display_name": "Python 3 (ipykernel)",
   "language": "python",
   "name": "python3"
  },
  "language_info": {
   "codemirror_mode": {
    "name": "ipython",
    "version": 3
   },
   "file_extension": ".py",
   "mimetype": "text/x-python",
   "name": "python",
   "nbconvert_exporter": "python",
   "pygments_lexer": "ipython3",
   "version": "3.11.2"
  }
 },
 "nbformat": 4,
 "nbformat_minor": 2
}
